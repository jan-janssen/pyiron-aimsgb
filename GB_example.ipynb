{
 "cells": [
  {
   "cell_type": "code",
   "execution_count": 1,
   "metadata": {},
   "outputs": [],
   "source": [
    "from aimsgb import grain, grain_bound\n",
    "from aimsgb.grain_bound import GBInformation\n",
    "\n",
    "import numpy as np\n",
    "import matplotlib.pylab as plt\n",
    "\n",
    "from pymatgen import Structure, Lattice, PeriodicSite\n",
    "from pyiron import Project \n",
    "\n",
    "from pyiron.atomistics.structure.atoms import pyiron_to_pymatgen, pymatgen_to_pyiron"
   ]
  },
  {
   "cell_type": "code",
   "execution_count": 2,
   "metadata": {},
   "outputs": [
    {
     "name": "stderr",
     "output_type": "stream",
     "text": [
      "/Users/jan/PycharmProjects/pyiron/pyiron/atomistics/structure/atoms.py:3226: UserWarning: Found unknown keys: ['_cellobj']\n",
      "  warnings.warn(\"Found unknown keys: \" + str(dict_keys))\n"
     ]
    }
   ],
   "source": [
    "pr = Project('gb')\n",
    "Al = pyiron_to_pymatgen(pr.create_ase_bulk('Mg', orthorhombic=True))\n",
    "\n",
    "grain_init = grain.Grain(Al.lattice, Al.species, Al.frac_coords)\n",
    "# grain_init"
   ]
  },
  {
   "cell_type": "markdown",
   "metadata": {},
   "source": [
    "## Sigma 3"
   ]
  },
  {
   "cell_type": "code",
   "execution_count": 3,
   "metadata": {},
   "outputs": [
    {
     "data": {
      "text/plain": [
       "{5: {'theta': [53.13010235415598, 36.86989764584402],\n",
       "  'plane': [[[2, -1, 0], [1, 2, 0], [0, 0, 1]],\n",
       "   [[3, -1, 0], [1, 3, 0], [0, 0, 1]]],\n",
       "  'rot_matrix': array([[ 0.8, -0.6,  0. ],\n",
       "         [ 0.6,  0.8,  0. ],\n",
       "         [ 0. ,  0. ,  1. ]]),\n",
       "  'csl': [array([[ 2,  1,  0],\n",
       "          [-1,  2,  0],\n",
       "          [ 0,  0,  1]]),\n",
       "   array([[ 3,  1,  0],\n",
       "          [-1,  3,  0],\n",
       "          [ 0,  0,  1]])]},\n",
       " 13: {'theta': [67.38013505195957, 22.61986494804043],\n",
       "  'plane': [[[3, -2, 0], [2, 3, 0], [0, 0, 1]],\n",
       "   [[5, -1, 0], [1, 5, 0], [0, 0, 1]]],\n",
       "  'rot_matrix': array([[ 0.92307692, -0.38461538,  0.        ],\n",
       "         [ 0.38461538,  0.92307692,  0.        ],\n",
       "         [ 0.        ,  0.        ,  1.        ]]),\n",
       "  'csl': [array([[ 3,  2,  0],\n",
       "          [-2,  3,  0],\n",
       "          [ 0,  0,  1]]),\n",
       "   array([[ 5,  1,  0],\n",
       "          [-1,  5,  0],\n",
       "          [ 0,  0,  1]])]}}"
      ]
     },
     "execution_count": 3,
     "metadata": {},
     "output_type": "execute_result"
    }
   ],
   "source": [
    "axis = [0,0,1]\n",
    "gb_info = GBInformation(axis=axis, max_sigma=15)  # [5]['plane']\n",
    "# np.sort(list(gb_info.keys())), gb_info[3]['plane']\n",
    "gb_info"
   ]
  },
  {
   "cell_type": "code",
   "execution_count": 4,
   "metadata": {},
   "outputs": [],
   "source": [
    "# grain_bound.GrainBoundary?"
   ]
  },
  {
   "cell_type": "code",
   "execution_count": 5,
   "metadata": {},
   "outputs": [
    {
     "name": "stderr",
     "output_type": "stream",
     "text": [
      "/Users/jan/miniforge3/lib/python3.9/site-packages/aimsgb/grain_bound.py:467: UserWarning: Your input structure is not a conventional standard structure. aimsgb will do the transformation for you.\n",
      "  warnings.warn(\"Your input structure is not a conventional standard \"\n"
     ]
    }
   ],
   "source": [
    "gb_obj = grain_bound.GrainBoundary(axis=[0,0,1], sigma=5, plane=[1,2,0], initial_struct=grain_init)\n",
    "gb = gb_obj.build_gb(to_primitive=False)"
   ]
  },
  {
   "cell_type": "code",
   "execution_count": 6,
   "metadata": {},
   "outputs": [],
   "source": [
    "# gb_obj = grain_bound.GrainBoundary(axis=[0,1,2], sigma=5, plane=[0,1,2], initial_struct=grain_init)\n",
    "# gb = gb_obj.build_gb(to_primitive=False)"
   ]
  },
  {
   "cell_type": "code",
   "execution_count": 7,
   "metadata": {},
   "outputs": [
    {
     "data": {
      "application/vnd.jupyter.widget-view+json": {
       "model_id": "5efbd8f998da4bf88c819b4837a3dc4d",
       "version_major": 2,
       "version_minor": 0
      },
      "text/plain": []
     },
     "metadata": {},
     "output_type": "display_data"
    },
    {
     "data": {
      "application/vnd.jupyter.widget-view+json": {
       "model_id": "ea9c9c47d7c34b7daaa23b26e3357510",
       "version_major": 2,
       "version_minor": 0
      },
      "text/plain": [
       "NGLWidget()"
      ]
     },
     "metadata": {},
     "output_type": "display_data"
    }
   ],
   "source": [
    "grains = pymatgen_to_pyiron(gb).center_coordinates_in_unit_cell()\n",
    "grains.repeat(2).plot3d(particle_size=3, view_plane=[1,0,0])"
   ]
  },
  {
   "cell_type": "code",
   "execution_count": 8,
   "metadata": {},
   "outputs": [
    {
     "data": {
      "image/png": "[encoded data removed]",
      "text/plain": [
       "<Figure size 432x288 with 1 Axes>"
      ]
     },
     "metadata": {
      "needs_background": "light"
     },
     "output_type": "display_data"
    }
   ],
   "source": [
    "nbrs = grains.get_neighbors()\n",
    "plt.hist(nbrs.distances.flatten(), bins=50);"
   ]
  },
  {
   "cell_type": "code",
   "execution_count": 9,
   "metadata": {},
   "outputs": [],
   "source": [
    "ids = nbrs.indices[nbrs.distances<2]\n",
    "del grains[ids]"
   ]
  },
  {
   "cell_type": "code",
   "execution_count": 10,
   "metadata": {},
   "outputs": [
    {
     "data": {
      "application/vnd.jupyter.widget-view+json": {
       "model_id": "71b1a58fc6044399aad3da6edc3989a4",
       "version_major": 2,
       "version_minor": 0
      },
      "text/plain": [
       "NGLWidget()"
      ]
     },
     "metadata": {},
     "output_type": "display_data"
    }
   ],
   "source": [
    "grains.center_coordinates_in_unit_cell().plot3d(particle_size=3, show_cell=True)"
   ]
  },
  {
   "cell_type": "markdown",
   "metadata": {},
   "source": [
    "## Sigma 5"
   ]
  },
  {
   "cell_type": "code",
   "execution_count": 11,
   "metadata": {},
   "outputs": [
    {
     "data": {
      "text/plain": [
       "(array([3, 5, 7, 9]), [[[0, 0, 1], [2, -1, 0], [1, 2, 0]]])"
      ]
     },
     "execution_count": 11,
     "metadata": {},
     "output_type": "execute_result"
    }
   ],
   "source": [
    "axis = [1,2,0]\n",
    "gb_info = GBInformation(axis=axis, max_sigma=10)  # [5]['plane']\n",
    "np.sort(list(gb_info.keys())), gb_info[5]['plane']"
   ]
  },
  {
   "cell_type": "code",
   "execution_count": 12,
   "metadata": {},
   "outputs": [
    {
     "name": "stdout",
     "output_type": "stream",
     "text": [
      "CPU times: user 40.1 ms, sys: 4.48 ms, total: 44.6 ms\n",
      "Wall time: 36.7 ms\n"
     ]
    },
    {
     "name": "stderr",
     "output_type": "stream",
     "text": [
      "/Users/jan/miniforge3/lib/python3.9/site-packages/aimsgb/grain_bound.py:467: UserWarning: Your input structure is not a conventional standard structure. aimsgb will do the transformation for you.\n",
      "  warnings.warn(\"Your input structure is not a conventional standard \"\n"
     ]
    }
   ],
   "source": [
    "%%time\n",
    "gb_obj = grain_bound.GrainBoundary(axis=axis, sigma=5, plane=[2, -1, 0], initial_struct=grain_init)\n",
    "gb = gb_obj.build_gb(to_primitive=False)"
   ]
  },
  {
   "cell_type": "code",
   "execution_count": 13,
   "metadata": {},
   "outputs": [],
   "source": [
    "# gb_obj = grain_bound.GrainBoundary(axis=[0,1,2], sigma=5, plane=[0,1,2], initial_struct=grain_init)\n",
    "# gb = gb_obj.build_gb(to_primitive=False)"
   ]
  },
  {
   "cell_type": "code",
   "execution_count": 14,
   "metadata": {},
   "outputs": [
    {
     "name": "stdout",
     "output_type": "stream",
     "text": [
      "20\n"
     ]
    },
    {
     "data": {
      "application/vnd.jupyter.widget-view+json": {
       "model_id": "a5d20535fa6c4f358f926c36d6696e6e",
       "version_major": 2,
       "version_minor": 0
      },
      "text/plain": [
       "NGLWidget()"
      ]
     },
     "metadata": {},
     "output_type": "display_data"
    }
   ],
   "source": [
    "grains = pymatgen_to_pyiron(gb).center_coordinates_in_unit_cell()\n",
    "print (len(grains))\n",
    "grains.plot3d(particle_size=3, view_plane=[1, 0, 0])"
   ]
  },
  {
   "cell_type": "markdown",
   "metadata": {},
   "source": [
    "### Convert structure directly "
   ]
  },
  {
   "cell_type": "code",
   "execution_count": 15,
   "metadata": {},
   "outputs": [],
   "source": [
    "# a = 4.05\n",
    "# coords = np.array([[0, 0, 0], [0, 0.5, 0.5], [0.5, 0.5, 0], [0.5, 0, 0.5]])\n",
    "# lattice = Lattice.cubic(a=a)\n",
    "\n",
    "# struct = Structure(lattice, 4 * [\"Al\"], coords) * 2\n",
    "# struct\n",
    "\n",
    "# grain_init = grain.Grain(lattice, species= 4 * [\"Al\"], coords=coords)\n",
    "# grain_init"
   ]
  },
  {
   "cell_type": "code",
   "execution_count": 16,
   "metadata": {},
   "outputs": [],
   "source": [
    "# pr = Project('gb')\n",
    "# ss = gb\n",
    "# symbols = [s.value for s in ss.species]  \n",
    "# positions = ss.cart_coords\n",
    "\n",
    "# grains = pr.create_atoms(symbols, positions, cell=ss.lattice.matrix)"
   ]
  },
  {
   "cell_type": "code",
   "execution_count": 17,
   "metadata": {},
   "outputs": [],
   "source": [
    "# grains.center_coordinates_in_unit_cell().plot3d(particle_size=3, show_cell=True)"
   ]
  },
  {
   "cell_type": "code",
   "execution_count": null,
   "metadata": {},
   "outputs": [],
   "source": []
  },
  {
   "cell_type": "code",
   "execution_count": null,
   "metadata": {},
   "outputs": [],
   "source": []
  },
  {
   "cell_type": "code",
   "execution_count": null,
   "metadata": {},
   "outputs": [],
   "source": []
  }
 ],
 "metadata": {
  "kernelspec": {
   "display_name": "Python 3",
   "language": "python",
   "name": "python3"
  },
  "language_info": {
   "codemirror_mode": {
    "name": "ipython",
    "version": 3
   },
   "file_extension": ".py",
   "mimetype": "text/x-python",
   "name": "python",
   "nbconvert_exporter": "python",
   "pygments_lexer": "ipython3",
   "version": "3.9.0"
  }
 },
 "nbformat": 4,
 "nbformat_minor": 4
}
